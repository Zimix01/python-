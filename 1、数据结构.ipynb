{
 "cells": [
  {
   "cell_type": "markdown",
   "metadata": {},
   "source": [
    "### 抽象数据结构（Abastract Data Type，ADT）---- 线性数据结构"
   ]
  },
  {
   "cell_type": "markdown",
   "metadata": {},
   "source": [
    "**线性数据：一些列有序的数据的集合，有头有尾，中间元素有前去和后继（头尾可以相连）**\n",
    "- 线性数据结构\n",
    "    - 栈\n",
    "    - 队列\n",
    "    - 双端队列\n",
    "    - 列表\n",
    "        - 顺序存储的列表 需要连续的存储空间\n",
    "        - 链式存储的链表 链表不需要连续的存储空间，可以是离散的，但需要指向下一个节点。\n",
    "            - 无序链表\n",
    "            - 有序链表"
   ]
  },
  {
   "cell_type": "markdown",
   "metadata": {},
   "source": [
    "#### 栈 (stack) 后进先出\n",
    "只能在栈顶工作\n",
    "    - stack():创建空堆栈\n",
    "    - push():入栈操作\n",
    "    - pop():删除栈顶元素，并返回，栈被修改\n",
    "    - peek():取栈顶元素，栈不被修改\n",
    "    - isEmpty():判断栈是否为空\n",
    "    - size():返回栈元素的个数\n",
    "**python实现栈**"
   ]
  },
  {
   "cell_type": "code",
   "execution_count": 11,
   "metadata": {},
   "outputs": [],
   "source": [
    "class Stack():\n",
    "    def __init__(self):\n",
    "        # 初始化栈\n",
    "        self.item = []\n",
    "    def push(self,item):\n",
    "        # 入栈\n",
    "        self.item.append(item)\n",
    "    def pop(self):\n",
    "        return self.item.pop()\n",
    "    def peek(self):\n",
    "        # return self.item[len(self.item)-1]\n",
    "        return self.item[-1]\n",
    "    def isEmpty(self):\n",
    "        return self.item == []\n",
    "    def size(self):\n",
    "        return len(self.item)"
   ]
  },
  {
   "cell_type": "code",
   "execution_count": 12,
   "metadata": {},
   "outputs": [
    {
     "name": "stdout",
     "output_type": "stream",
     "text": [
      "初始化栈，判断是否为空： True\n",
      "插入数据之后的大小： 3\n",
      "查看顶端数据 3\n",
      "抛出栈数据：\n",
      "3\n",
      "2\n",
      "1\n",
      "抛完数据，判断栈是否为空： True\n"
     ]
    }
   ],
   "source": [
    "# 测试\n",
    "d1 = Stack()\n",
    "print(\"初始化栈，判断是否为空：\",d1.isEmpty())\n",
    "d1.push(1)\n",
    "d1.push(2)\n",
    "d1.push(3)\n",
    "print(\"插入数据之后的大小：\",d1.size())\n",
    "print(\"查看顶端数据\",d1.peek())\n",
    "print(\"抛出栈数据：\")\n",
    "for i in range(d1.size()):\n",
    "    print(d1.pop())\n",
    "print(\"抛完数据，判断栈是否为空：\",d1.isEmpty())"
   ]
  },
  {
   "cell_type": "markdown",
   "metadata": {},
   "source": [
    "#### 应用 括号的匹配\n",
    "例如：\n",
    "\n",
    "输入：（a+b） 输出：True\n",
    "\n",
    "输入：（（a+b）*c）） 输出：False"
   ]
  },
  {
   "cell_type": "code",
   "execution_count": 13,
   "metadata": {},
   "outputs": [
    {
     "data": {
      "text/plain": [
       "(True, False)"
      ]
     },
     "execution_count": 13,
     "metadata": {},
     "output_type": "execute_result"
    }
   ],
   "source": [
    "def parChecker(string):\n",
    "    d = Stack()\n",
    "    balance = True\n",
    "    for c in string:\n",
    "        if c == '(':\n",
    "            d.push(c)\n",
    "        if c == ')':\n",
    "            if d.isEmpty():\n",
    "                balance = False\n",
    "            else:\n",
    "                d.pop()\n",
    "    if balance and d.isEmpty():\n",
    "        return True\n",
    "    else:\n",
    "        return False\n",
    "\n",
    "parChecker(\"((a+b)*c)\"),parChecker(\"((a+b)*c))\")"
   ]
  },
  {
   "cell_type": "markdown",
   "metadata": {},
   "source": [
    "#### 队列（queue） 先进先出\n",
    "    - Queue():创建空队列\n",
    "    - push():入队操作\n",
    "    - pop():出队操作，并返回，队列被修改\n",
    "    - isEmpty():判断队列是否为空\n",
    "    - size():返回队列元素的个数\n",
    "**python实现队列**"
   ]
  },
  {
   "cell_type": "code",
   "execution_count": 16,
   "metadata": {},
   "outputs": [],
   "source": [
    "class Queue():\n",
    "    def __init__(self):\n",
    "        # 初始化队列\n",
    "        self.item = []\n",
    "    def push(self,item):\n",
    "        # 入队\n",
    "        self.item.append(item)\n",
    "    def pop(self):\n",
    "        return self.item.pop(0)\n",
    "    def isEmpty(self):\n",
    "        return self.item == []\n",
    "    def size(self):\n",
    "        return len(self.item)"
   ]
  },
  {
   "cell_type": "code",
   "execution_count": 19,
   "metadata": {},
   "outputs": [
    {
     "name": "stdout",
     "output_type": "stream",
     "text": [
      "初始化队列，判断是否为空： True\n",
      "入队后数据之后的大小： 3\n",
      "抛出栈数据：\n",
      "1\n",
      "2\n",
      "3\n",
      "抛完数据，判断队列是否为空： True\n"
     ]
    }
   ],
   "source": [
    "# 测试\n",
    "q = Queue()\n",
    "print(\"初始化队列，判断是否为空：\",q.isEmpty())\n",
    "q.push(1)\n",
    "q.push(2)\n",
    "q.push(3)\n",
    "print(\"入队后数据之后的大小：\",q.size())\n",
    "print(\"抛出栈数据：\")\n",
    "for i in range(q.size()):\n",
    "    print(q.pop())\n",
    "print(\"抛完数据，判断队列是否为空：\",q.isEmpty())"
   ]
  },
  {
   "cell_type": "markdown",
   "metadata": {},
   "source": [
    "#### 约瑟夫问题\n",
    "n个人围成一圈，从队首开始报数，1-7，报数为7的人会被杀死。从下一个开始i继续报数，直到最后只有一个人。现在给定一个序列人名，求出活下来的人。"
   ]
  },
  {
   "cell_type": "code",
   "execution_count": 22,
   "metadata": {},
   "outputs": [
    {
     "data": {
      "text/plain": [
       "'b'"
      ]
     },
     "execution_count": 22,
     "metadata": {},
     "output_type": "execute_result"
    }
   ],
   "source": [
    "def solution(namelist,num):\n",
    "    q = Queue()\n",
    "    for name in namelist:\n",
    "        q.push(name)\n",
    "    while q.size()>1:\n",
    "        for i in range(num-1):\n",
    "            q.push(q.pop())\n",
    "        q.pop()\n",
    "    return q.pop()\n",
    "\n",
    "solution([\"a\",\"b\",\"c\",\"d\"],7)"
   ]
  },
  {
   "cell_type": "markdown",
   "metadata": {},
   "source": [
    "#### 双端队列（deque） 同时可以具备栈和队列的特性\n",
    "    - Deque():创建空队列\n",
    "    - push_head():从队首入队操作\n",
    "    - push_end():从队尾入队操作\n",
    "    - pop_head():从队首出队操作，并返回，队列被修改\n",
    "    - pop_end():从队尾出队操作，并返回，队列被修改\n",
    "    - isEmpty():判断队列是否为空\n",
    "    - size():返回队列元素的个数\n",
    "**python实现双端队列**"
   ]
  },
  {
   "cell_type": "code",
   "execution_count": 28,
   "metadata": {},
   "outputs": [],
   "source": [
    "class Deque():\n",
    "    def __init__(self):\n",
    "        # 初始化队列\n",
    "        self.item = []\n",
    "    def push_end(self,item):\n",
    "        # 入队\n",
    "        self.item.append(item)\n",
    "    def pop_end(self):\n",
    "        return self.item.pop()\n",
    "    def push_head(self,item):\n",
    "        # 入队\n",
    "        self.item.insert(0,item)\n",
    "    def pop_head(self):\n",
    "        return self.item.pop(0)\n",
    "    def isEmpty(self):\n",
    "        return self.item == []\n",
    "    def size(self):\n",
    "        return len(self.item)"
   ]
  },
  {
   "cell_type": "code",
   "execution_count": 31,
   "metadata": {},
   "outputs": [
    {
     "name": "stdout",
     "output_type": "stream",
     "text": [
      "初始化队列，判断是否为空： True\n",
      "[4, 1, 2, 3]\n",
      "入队后数据之后的大小： 4\n",
      "从左到右抛出2个栈数据：\n",
      "4 1\n",
      "从右到左抛出2个栈数据：\n",
      "3 2\n",
      "抛完数据，判断队列是否为空： True\n"
     ]
    }
   ],
   "source": [
    "# 测试\n",
    "q = Deque()\n",
    "print(\"初始化队列，判断是否为空：\",q.isEmpty())\n",
    "q.push_end(1)\n",
    "q.push_end(2)\n",
    "q.push_end(3)\n",
    "q.push_head(4)\n",
    "print(q.item)\n",
    "print(\"入队后数据之后的大小：\",q.size())\n",
    "print(\"从左到右抛出2个栈数据：\")\n",
    "print(q.pop_head(),q.pop_head())\n",
    "print(\"从右到左抛出2个栈数据：\")\n",
    "print(q.pop_end(),q.pop_end())\n",
    "print(\"抛完数据，判断队列是否为空：\",q.isEmpty())"
   ]
  },
  {
   "cell_type": "markdown",
   "metadata": {},
   "source": [
    "#### 双端队列应用 回文词判定\n",
    "aabaa 就是回文词，aabac就不是。给定一个字符串，判断是否为回文词。"
   ]
  },
  {
   "cell_type": "code",
   "execution_count": 34,
   "metadata": {},
   "outputs": [
    {
     "data": {
      "text/plain": [
       "(False, True, True)"
      ]
     },
     "execution_count": 34,
     "metadata": {},
     "output_type": "execute_result"
    }
   ],
   "source": [
    "def solution(string):\n",
    "    q = Deque()\n",
    "    for i in string:\n",
    "        q.push_end(i)\n",
    "    while 1:\n",
    "        if q.size()>1:\n",
    "            if q.pop_head()!=q.pop_end():\n",
    "                return False\n",
    "        else:\n",
    "            return True\n",
    "\n",
    "solution(\"aabcc\"),solution(\"aabaa\"),solution(\"abba\")"
   ]
  },
  {
   "cell_type": "markdown",
   "metadata": {},
   "source": [
    "#### 列表（list） \n",
    "**python内置 无需实现**\n",
    "#### 链表\n",
    "**链表的node是相同的，如下**"
   ]
  },
  {
   "cell_type": "code",
   "execution_count": 36,
   "metadata": {},
   "outputs": [],
   "source": [
    "class Node():\n",
    "    def __init__(self,inital_data):\n",
    "        self.data = inital_data\n",
    "        self.next = None\n",
    "    def set_data(self,data):\n",
    "        self.data = data\n",
    "    def set_next(self,next):\n",
    "        self.next = next\n",
    "    def get_data(self):\n",
    "        return self.data\n",
    "    def get_next(self):\n",
    "        return self.next"
   ]
  },
  {
   "cell_type": "markdown",
   "metadata": {},
   "source": [
    "#### 单向无序链表(功能太多，不完整的实现)"
   ]
  },
  {
   "cell_type": "code",
   "execution_count": 38,
   "metadata": {},
   "outputs": [],
   "source": [
    "class UnorderList():\n",
    "    def __init__(self):\n",
    "        self.head = None\n",
    "    def add(self,item):\n",
    "        temp = Node(item)\n",
    "        temp.set_next(self.head)\n",
    "        self.head = temp\n",
    "    def size(self):\n",
    "        count = 0\n",
    "        current = self.head\n",
    "        while current != None:\n",
    "            count+=1\n",
    "            current = current.get_next()\n",
    "        return count"
   ]
  },
  {
   "cell_type": "code",
   "execution_count": 42,
   "metadata": {},
   "outputs": [
    {
     "data": {
      "text/plain": [
       "(2, 'd2', 'd1')"
      ]
     },
     "execution_count": 42,
     "metadata": {},
     "output_type": "execute_result"
    }
   ],
   "source": [
    "# 测试\n",
    "ls = UnorderList()\n",
    "ls.add(\"d1\")\n",
    "ls.add(\"d2\")\n",
    "ls.size(),ls.head.get_data(),ls.head.get_next().get_data()"
   ]
  },
  {
   "cell_type": "markdown",
   "metadata": {},
   "source": [
    "#### 双向无序链表 （多了一个从后指向前的链）"
   ]
  },
  {
   "cell_type": "markdown",
   "metadata": {},
   "source": [
    "#### 单向有序链表 (在链接的时候按照某一种规则排序链接)"
   ]
  },
  {
   "cell_type": "markdown",
   "metadata": {},
   "source": [
    "#### 双向有序链表"
   ]
  },
  {
   "cell_type": "code",
   "execution_count": null,
   "metadata": {},
   "outputs": [],
   "source": []
  }
 ],
 "metadata": {
  "kernelspec": {
   "display_name": "Python 3",
   "language": "python",
   "name": "python3"
  },
  "language_info": {
   "codemirror_mode": {
    "name": "ipython",
    "version": 3
   },
   "file_extension": ".py",
   "mimetype": "text/x-python",
   "name": "python",
   "nbconvert_exporter": "python",
   "pygments_lexer": "ipython3",
   "version": "3.7.4"
  }
 },
 "nbformat": 4,
 "nbformat_minor": 4
}
